{
  "nbformat": 4,
  "nbformat_minor": 0,
  "metadata": {
    "colab": {
      "name": "Manipulasi array menggunakan numpy",
      "provenance": [],
      "collapsed_sections": [],
      "include_colab_link": true
    },
    "kernelspec": {
      "display_name": "Python 3",
      "name": "python3"
    }
  },
  "cells": [
    {
      "cell_type": "markdown",
      "metadata": {
        "id": "view-in-github",
        "colab_type": "text"
      },
      "source": [
        "<a href=\"https://colab.research.google.com/github/Bryantoropn/Datmin-Manipulasi-array-menggunakan-numpy/blob/main/Manipulasi_array_menggunakan_numpy.ipynb\" target=\"_parent\"><img src=\"https://colab.research.google.com/assets/colab-badge.svg\" alt=\"Open In Colab\"/></a>"
      ]
    },
    {
      "cell_type": "markdown",
      "metadata": {
        "id": "ZOtdJmOJB-hb"
      },
      "source": [
        "*italicised text*"
      ]
    },
    {
      "cell_type": "code",
      "metadata": {
        "id": "0V8oHRRBB_tS"
      },
      "source": [
        "import numpy as np\n"
      ],
      "execution_count": null,
      "outputs": []
    },
    {
      "cell_type": "code",
      "metadata": {
        "id": "SD4hI6uhB-Gq",
        "colab": {
          "base_uri": "https://localhost:8080/"
        },
        "outputId": "5bbfe336-402f-458d-f88d-daf8bb3af0a9"
      },
      "source": [
        "import numpy as np\n",
        "arr = np.array([[4,4,5],[7,6,4],[9,7,4],[6,3,7]])  \n",
        "print(arr) \n"
      ],
      "execution_count": null,
      "outputs": [
        {
          "output_type": "stream",
          "name": "stdout",
          "text": [
            "[[4 4 5]\n",
            " [7 6 4]\n",
            " [9 7 4]\n",
            " [6 3 7]]\n"
          ]
        }
      ]
    },
    {
      "cell_type": "code",
      "metadata": {
        "colab": {
          "base_uri": "https://localhost:8080/"
        },
        "id": "Xc1-YoFZG4bW",
        "outputId": "c06670a3-b019-4fed-e959-f39ce55543df"
      },
      "source": [
        "import numpy \n",
        "arr = numpy.array([[[7,8,5],[4,7,7],[7,1,9],[5,4,10]],[[2,1,2],[9,8,5],[3,7,3],[4,9,9]],[[2,9,3],[2,4,8],[1,6,6],[8,1,3]]])  \n",
        "print(arr) "
      ],
      "execution_count": null,
      "outputs": [
        {
          "output_type": "stream",
          "name": "stdout",
          "text": [
            "[[[ 7  8  5]\n",
            "  [ 4  7  7]\n",
            "  [ 7  1  9]\n",
            "  [ 5  4 10]]\n",
            "\n",
            " [[ 2  1  2]\n",
            "  [ 9  8  5]\n",
            "  [ 3  7  3]\n",
            "  [ 4  9  9]]\n",
            "\n",
            " [[ 2  9  3]\n",
            "  [ 2  4  8]\n",
            "  [ 1  6  6]\n",
            "  [ 8  1  3]]]\n"
          ]
        }
      ]
    },
    {
      "cell_type": "code",
      "metadata": {
        "colab": {
          "base_uri": "https://localhost:8080/"
        },
        "id": "pakMWYxEIeWQ",
        "outputId": "9e467f90-097e-4d91-e200-f9dd71859b29"
      },
      "source": [
        "import numpy as np\n",
        "arr = np.array([[[1, 2, 3], [4, 5, 6]], [[7, 8, 9], [10, 11, 12]]])\n",
        "print(arr[0:2])\n"
      ],
      "execution_count": null,
      "outputs": [
        {
          "output_type": "stream",
          "name": "stdout",
          "text": [
            "[[[ 1  2  3]\n",
            "  [ 4  5  6]]\n",
            "\n",
            " [[ 7  8  9]\n",
            "  [10 11 12]]]\n"
          ]
        }
      ]
    },
    {
      "cell_type": "code",
      "metadata": {
        "colab": {
          "base_uri": "https://localhost:8080/"
        },
        "id": "SH5ARdolKM24",
        "outputId": "0a8d6bb3-8372-4be7-ec7b-14c13c532548"
      },
      "source": [
        "import numpy as np\n",
        "arr = np.array([[1, 2, 3, 4, 5], [6, 7, 8, 9, 10]])\n",
        "print(arr[0:2, 2])"
      ],
      "execution_count": null,
      "outputs": [
        {
          "output_type": "stream",
          "name": "stdout",
          "text": [
            "[3 8]\n"
          ]
        }
      ]
    },
    {
      "cell_type": "code",
      "metadata": {
        "id": "V3g0yCHESiU3"
      },
      "source": [
        "import numpy as np\n",
        "arr = np.array([[1,8,8,2], [8,2,1,2],[10,1,4,7],[1,4,7,8],[8,2,3,4]])\n",
        "arr[1::2] += 1\n",
        "print(arr)\n",
        "arr[:,0::2] += 2\n",
        "print(arr)"
      ],
      "execution_count": null,
      "outputs": []
    },
    {
      "cell_type": "code",
      "metadata": {
        "id": "8tVnyZYAVelf"
      },
      "source": [
        "import numpy as np\n",
        "arr = np.array(\n",
        "    [\n",
        "     [\n",
        "      [7,8,5],\n",
        "      [4,7,7],\n",
        "      [7,1,9],\n",
        "      [5,4,10],\n",
        "     ],\n",
        "     [\n",
        "      [2,1,2],\n",
        "      [9,8,5],\n",
        "      [3,7,3],\n",
        "      [4,9,9],\n",
        "     ],\n",
        "     [\n",
        "      [2,9,3],\n",
        "      [2,4,8],\n",
        "      [1,6,6],\n",
        "      [8,1,3]\n",
        "     ]\n",
        "    ]\n",
        ")\n",
        "\n",
        "print(arr[::-1])"
      ],
      "execution_count": null,
      "outputs": []
    },
    {
      "cell_type": "code",
      "metadata": {
        "id": "6gNZ0isCWeGf"
      },
      "source": [
        "import numpy as np\n",
        "arr = np.array(\n",
        "    [\n",
        "     [\n",
        "      [7,8,5],\n",
        "      [4,7,7],\n",
        "      [7,1,9],\n",
        "      [5,4,10],\n",
        "     ],\n",
        "     [\n",
        "      [2,1,2],\n",
        "      [9,8,5],\n",
        "      [3,7,3],\n",
        "      [4,9,9],\n",
        "     ],\n",
        "     [\n",
        "      [2,9,3],\n",
        "      [2,4,8],\n",
        "      [1,6,6],\n",
        "      [8,1,3]\n",
        "     ]\n",
        "    ]\n",
        ").reshape(6,6)\n",
        "\n",
        "print(arr)"
      ],
      "execution_count": null,
      "outputs": []
    },
    {
      "cell_type": "code",
      "metadata": {
        "colab": {
          "base_uri": "https://localhost:8080/"
        },
        "id": "qh8YiSDnWx_4",
        "outputId": "b93a7d0d-5948-4fea-a797-80a4405df707"
      },
      "source": [
        "import numpy as np\n",
        "arr1 = np.array([[1, 2], [3, 4]])\n",
        "arr2 = np.array([[5, 6], [7, 8]])\n",
        "arr = np.concatenate((arr1, arr2),axis=1)  \n",
        "print(arr)\n"
      ],
      "execution_count": null,
      "outputs": [
        {
          "output_type": "stream",
          "name": "stdout",
          "text": [
            "[[1 2 5 6]\n",
            " [3 4 7 8]]\n"
          ]
        }
      ]
    },
    {
      "cell_type": "code",
      "metadata": {
        "colab": {
          "base_uri": "https://localhost:8080/"
        },
        "id": "eC9gicqzcTH-",
        "outputId": "3ecdb268-e1ea-457f-b513-9f7b62384af4"
      },
      "source": [
        "import numpy as np\n",
        "arr = np.array([\n",
        "      [5,10,10,7],          \n",
        "      [7,8,4,10],\n",
        "      [9,10,2,5],\n",
        "      [1,8,9,3],\n",
        "      [6,10,5,2],\n",
        "      [4,6,9,4]\n",
        "])\n",
        "\n",
        "kiri_atas = arr[:3,:2] #5,10,7,8,9,10\n",
        "kiri_bawah = arr[3:,:2] #1,8,6,10,4,6\n",
        "kanan_atas = arr[:3,2:] #10,7,4,10,2,5\n",
        "kanan_bawah = arr[3:,2:] #9,3,5,2,9,4\n",
        "atas = np.concatenate((kanan_bawah,kiri_bawah),axis=1)\n",
        "bawah = np.concatenate((kanan_atas,kiri_atas),axis=1)\n",
        "arr_baru = np.concatenate((atas,bawah),axis=0)\n",
        "print(arr_baru)"
      ],
      "execution_count": null,
      "outputs": [
        {
          "output_type": "stream",
          "name": "stdout",
          "text": [
            "[[ 9  3  1  8]\n",
            " [ 5  2  6 10]\n",
            " [ 9  4  4  6]\n",
            " [10  7  5 10]\n",
            " [ 4 10  7  8]\n",
            " [ 2  5  9 10]]\n"
          ]
        }
      ]
    }
  ]
}